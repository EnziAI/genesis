{
 "cells": [
  {
   "cell_type": "markdown",
   "id": "b2cd3abc",
   "metadata": {},
   "source": [
    "# The Determinant"
   ]
  },
  {
   "cell_type": "code",
   "execution_count": 5,
   "id": "2edccb4b",
   "metadata": {},
   "outputs": [],
   "source": [
    "import numpy as np"
   ]
  },
  {
   "cell_type": "markdown",
   "id": "432b8dda",
   "metadata": {},
   "source": [
    "<b> Explanation 1: </b>\n",
    "![image](./wiki_determinant.png)"
   ]
  },
  {
   "cell_type": "markdown",
   "id": "f5d920c8",
   "metadata": {},
   "source": [
    "<i> from wikipedia <i/>"
   ]
  },
  {
   "cell_type": "markdown",
   "id": "53d0c8c6",
   "metadata": {},
   "source": [
    "<b>Explaination 2: _(My explaination reworded by GPT)_</b>\n",
    "\n",
    "```The determinant of a matrix tells us whether the system of linear equations represented by the matrix is singular (having no unique solution) or non-singular (having a unique solution). A non-zero determinant means the system is non-singular and has a unique solution, while a determinant of zero means the system is singular and may have either no solution or infinitely many solutions. the determinant of a matrix tells us whether the system of linear equations represented by the matrix is singular (having no unique solution) or non-singular (having a unique solution). A non-zero determinant means the system is non-singular and has a unique solution, while a determinant of zero means the system is singular and may have either no solution or infinitely many solutions```"
   ]
  },
  {
   "cell_type": "markdown",
   "id": "426110e2",
   "metadata": {},
   "source": [
    "## My Code [YES THERE MIGHT BE MORE 'EFFICIENT' WAYS BUT LEAVE ME BE]"
   ]
  },
  {
   "cell_type": "markdown",
   "id": "a9aafffa",
   "metadata": {},
   "source": [
    "### Here i will attempt to find the determinant of a 2x2 Matrix"
   ]
  },
  {
   "cell_type": "code",
   "execution_count": 10,
   "id": "232f758e",
   "metadata": {},
   "outputs": [],
   "source": [
    "M = np.array([\n",
    "    [1,2], \n",
    "    [3,4]\n",
    "])"
   ]
  },
  {
   "cell_type": "code",
   "execution_count": 11,
   "id": "c516cb46",
   "metadata": {},
   "outputs": [
    {
     "data": {
      "text/plain": [
       "array([[1, 2],\n",
       "       [3, 4]])"
      ]
     },
     "execution_count": 11,
     "metadata": {},
     "output_type": "execute_result"
    }
   ],
   "source": [
    "M"
   ]
  },
  {
   "cell_type": "code",
   "execution_count": 42,
   "id": "a4eaa0c8",
   "metadata": {},
   "outputs": [
    {
     "data": {
      "text/plain": [
       "-2"
      ]
     },
     "execution_count": 42,
     "metadata": {},
     "output_type": "execute_result"
    }
   ],
   "source": [
    "#accessing M\n",
    "# [a b] [00 01]\n",
    "# [c d] [01 11]\n",
    "a = M[0][0]\n",
    "b = M[0][1]\n",
    "c = M[1][0] \n",
    "d = M[1][1]\n",
    "\n",
    "det_2b2(a,b,c,d)"
   ]
  },
  {
   "cell_type": "code",
   "execution_count": 24,
   "id": "b828f479",
   "metadata": {},
   "outputs": [],
   "source": [
    "# formula for 2x2 is ad - bc\n",
    "def det_2b2(a,b,c,d): # M will be the matrix numpy array\n",
    "    return a*d - b*c    "
   ]
  },
  {
   "cell_type": "markdown",
   "id": "af98268c",
   "metadata": {},
   "source": [
    "### now for 3x3 matrix"
   ]
  },
  {
   "cell_type": "markdown",
   "id": "8bba6b30",
   "metadata": {},
   "source": [
    "method/algorithm used: https://youtu.be/3ROzG6n4yMc?t=111"
   ]
  },
  {
   "cell_type": "code",
   "execution_count": 37,
   "id": "b3faaa49",
   "metadata": {},
   "outputs": [],
   "source": [
    "M3 = np.array([\n",
    "    [1,2,3],\n",
    "    [4,5,6],\n",
    "    [7,8,9]\n",
    "])"
   ]
  },
  {
   "cell_type": "code",
   "execution_count": 38,
   "id": "986e4432",
   "metadata": {},
   "outputs": [
    {
     "data": {
      "text/plain": [
       "array([[1, 2, 3],\n",
       "       [4, 5, 6],\n",
       "       [7, 8, 9]])"
      ]
     },
     "execution_count": 38,
     "metadata": {},
     "output_type": "execute_result"
    }
   ],
   "source": [
    "M3"
   ]
  },
  {
   "cell_type": "code",
   "execution_count": 39,
   "id": "8ebf97c7",
   "metadata": {},
   "outputs": [
    {
     "data": {
      "text/plain": [
       "'\\narray([\\n       [a1, b1, c1],\\n       [a2, b2, c2],\\n       [a3, b3, c3]\\n       ])\\n       \\na1*det_2b2(b2, c2, b3, c3) -\\nb1*det_2b2(a2, c2, a3, c3) +\\nc1*det_2b2(a2, b2, a3, b3)\\n\\n'"
      ]
     },
     "execution_count": 39,
     "metadata": {},
     "output_type": "execute_result"
    }
   ],
   "source": [
    "# basically goes like this\n",
    "\"\"\"\n",
    "array([\n",
    "       [a1, b1, c1],\n",
    "       [a2, b2, c2],\n",
    "       [a3, b3, c3]\n",
    "       ])\n",
    "       \n",
    "a1*det_2b2(b2, c2, b3, c3) -\n",
    "b1*det_2b2(a2, c2, a3, c3) +\n",
    "c1*det_2b2(a2, b2, a3, b3)\n",
    "\n",
    "\"\"\""
   ]
  },
  {
   "cell_type": "markdown",
   "id": "66da8231",
   "metadata": {},
   "source": [
    "### The code"
   ]
  },
  {
   "cell_type": "code",
   "execution_count": 43,
   "id": "71214f53",
   "metadata": {},
   "outputs": [
    {
     "data": {
      "text/plain": [
       "array([[1, 2, 3],\n",
       "       [4, 5, 6],\n",
       "       [7, 8, 9]])"
      ]
     },
     "execution_count": 43,
     "metadata": {},
     "output_type": "execute_result"
    }
   ],
   "source": [
    "M3 = np.array()"
   ]
  },
  {
   "cell_type": "code",
   "execution_count": 52,
   "id": "7631ebeb",
   "metadata": {},
   "outputs": [],
   "source": [
    "a1 = M3[0][0]\n",
    "a2 = M3[1][0]\n",
    "a3 = M3[2][0]\n",
    "\n",
    "b1 = M3[0][1]\n",
    "b2 = M3[1][1]\n",
    "b3 = M3[2][1]\n",
    "\n",
    "c1 = M3[0][2]\n",
    "c2 = M3[1][2]\n",
    "c3 = M3[2][2]\n"
   ]
  },
  {
   "cell_type": "code",
   "execution_count": 58,
   "id": "3bada18b",
   "metadata": {},
   "outputs": [],
   "source": [
    "det = \\\n",
    "    a1*det_2b2(b2, c2, b3, c3) - \\\n",
    "    b1*det_2b2(a2, c2, a3, c3) + \\\n",
    "    c1*det_2b2(a2, b2, a3, b3)"
   ]
  },
  {
   "cell_type": "code",
   "execution_count": 59,
   "id": "f2bc9559",
   "metadata": {},
   "outputs": [
    {
     "data": {
      "text/plain": [
       "0"
      ]
     },
     "execution_count": 59,
     "metadata": {},
     "output_type": "execute_result"
    }
   ],
   "source": [
    "det"
   ]
  },
  {
   "cell_type": "code",
   "execution_count": null,
   "id": "e1203764",
   "metadata": {},
   "outputs": [],
   "source": []
  }
 ],
 "metadata": {
  "kernelspec": {
   "display_name": "Python 3 (ipykernel)",
   "language": "python",
   "name": "python3"
  },
  "language_info": {
   "codemirror_mode": {
    "name": "ipython",
    "version": 3
   },
   "file_extension": ".py",
   "mimetype": "text/x-python",
   "name": "python",
   "nbconvert_exporter": "python",
   "pygments_lexer": "ipython3",
   "version": "3.9.7"
  }
 },
 "nbformat": 4,
 "nbformat_minor": 5
}
