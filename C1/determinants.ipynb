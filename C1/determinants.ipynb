{
 "cells": [
  {
   "cell_type": "markdown",
   "id": "b2cd3abc",
   "metadata": {},
   "source": [
    "# The Determinant"
   ]
  },
  {
   "cell_type": "code",
   "execution_count": 5,
   "id": "2edccb4b",
   "metadata": {},
   "outputs": [],
   "source": [
    "import numpy as np"
   ]
  },
  {
   "cell_type": "markdown",
   "id": "432b8dda",
   "metadata": {},
   "source": [
    "<b> Explanation 1: </b>\n",
    "![image](./wiki_determinant.png)"
   ]
  },
  {
   "cell_type": "markdown",
   "id": "d1f83df2",
   "metadata": {},
   "source": [
    "<i> from wikipedia <i/>"
   ]
  },
  {
   "cell_type": "markdown",
   "id": "4463b110",
   "metadata": {},
   "source": [
    "<b>Explaination 2: _(My explaination reworded by GPT)_</b>\n",
    "\n",
    "```The determinant of a matrix tells us whether the system of linear equations represented by the matrix is singular (having no unique solution) or non-singular (having a unique solution). A non-zero determinant means the system is non-singular and has a unique solution, while a determinant of zero means the system is singular and may have either no solution or infinitely many solutions. the determinant of a matrix tells us whether the system of linear equations represented by the matrix is singular (having no unique solution) or non-singular (having a unique solution). A non-zero determinant means the system is non-singular and has a unique solution, while a determinant of zero means the system is singular and may have either no solution or infinitely many solutions```"
   ]
  },
  {
   "cell_type": "markdown",
   "id": "a7ab0cea",
   "metadata": {},
   "source": [
    "## My Code [YES THERE MIGHT BE MORE 'EFFICIENT' WAYS BUT LEAVE ME BE]"
   ]
  },
  {
   "cell_type": "markdown",
   "id": "41dc6b65",
   "metadata": {},
   "source": [
    "### Here i will attempt to find the determinant of a 2x2 Matrix"
   ]
  },
  {
   "cell_type": "code",
   "execution_count": 10,
   "id": "bd3ff9ff",
   "metadata": {},
   "outputs": [],
   "source": [
    "M = np.array([\n",
    "    [1,2], \n",
    "    [3,4]\n",
    "])"
   ]
  },
  {
   "cell_type": "code",
   "execution_count": 11,
   "id": "0c5aa58f",
   "metadata": {},
   "outputs": [
    {
     "data": {
      "text/plain": [
       "array([[1, 2],\n",
       "       [3, 4]])"
      ]
     },
     "execution_count": 11,
     "metadata": {},
     "output_type": "execute_result"
    }
   ],
   "source": [
    "M"
   ]
  },
  {
   "cell_type": "code",
   "execution_count": 23,
   "id": "7e46e633",
   "metadata": {},
   "outputs": [
    {
     "data": {
      "text/plain": [
       "-2"
      ]
     },
     "execution_count": 23,
     "metadata": {},
     "output_type": "execute_result"
    }
   ],
   "source": [
    "#accessing M\n",
    "# [a b] [00 01]\n",
    "# [c d] [01 11]\n",
    "a = M[0][0]\n",
    "b = M[0][1]\n",
    "c = M[1][0] \n",
    "d = M[1][1]\n",
    "\n",
    "det_2b2(a,b,c,d)"
   ]
  },
  {
   "cell_type": "code",
   "execution_count": 24,
   "id": "c9ea1f67",
   "metadata": {},
   "outputs": [],
   "source": [
    "# formula for 2x2 is ad - bc\n",
    "def det_2b2(a,b,c,d): # M will be the matrix numpy array\n",
    "    return a*d - b*c    "
   ]
  },
  {
   "cell_type": "markdown",
   "id": "c594b267",
   "metadata": {},
   "source": [
    "### now for 3x3 matrix"
   ]
  },
  {
   "cell_type": "code",
   "execution_count": null,
   "id": "4463b168",
   "metadata": {},
   "outputs": [],
   "source": []
  }
 ],
 "metadata": {
  "kernelspec": {
   "display_name": "Python 3 (ipykernel)",
   "language": "python",
   "name": "python3"
  },
  "language_info": {
   "codemirror_mode": {
    "name": "ipython",
    "version": 3
   },
   "file_extension": ".py",
   "mimetype": "text/x-python",
   "name": "python",
   "nbconvert_exporter": "python",
   "pygments_lexer": "ipython3",
   "version": "3.9.7"
  }
 },
 "nbformat": 4,
 "nbformat_minor": 5
}
