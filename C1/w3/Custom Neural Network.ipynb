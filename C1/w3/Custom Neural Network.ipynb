{
 "cells": [
  {
   "cell_type": "markdown",
   "id": "b4ea6c92",
   "metadata": {},
   "source": [
    "# Neural Network from scratch with Numpy and Math (No Pytorch, Tensorflow)"
   ]
  },
  {
   "cell_type": "code",
   "execution_count": 36,
   "id": "10548a19",
   "metadata": {},
   "outputs": [],
   "source": [
    "import numpy as np\n",
    "import matplotlib.pyplot as plt\n",
    "import pandas as pd\n",
    "from sklearn.datasets import make_regression\n",
    "import w3_tools"
   ]
  },
  {
   "cell_type": "markdown",
   "id": "9ce2b2ed",
   "metadata": {},
   "source": [
    "## A. Lets create fake data "
   ]
  },
  {
   "cell_type": "code",
   "execution_count": 2,
   "id": "0f452e6d",
   "metadata": {},
   "outputs": [],
   "source": [
    "np.random.seed(3)"
   ]
  },
  {
   "cell_type": "code",
   "execution_count": 3,
   "id": "fbc996b5",
   "metadata": {},
   "outputs": [],
   "source": [
    "m = 50 # lets have 50 training examples\n",
    "X, Y = make_regression(n_samples=m, n_features=1, noise=30\n",
    "                       , random_state=1) # doc isnt working"
   ]
  },
  {
   "cell_type": "code",
   "execution_count": 4,
   "id": "c933df06",
   "metadata": {},
   "outputs": [],
   "source": [
    "X = X.reshape((1, m)) \n",
    "Y = Y.reshape((1, m))"
   ]
  },
  {
   "cell_type": "code",
   "execution_count": 5,
   "id": "82b8f028",
   "metadata": {},
   "outputs": [
    {
     "name": "stdout",
     "output_type": "stream",
     "text": [
      "Training X [input] values\n",
      "[[-0.24937038  0.19091548 -0.68372786 -0.17242821  2.10025514 -0.19183555\n",
      "  -0.61175641  1.6924546   0.50249434  1.74481176 -2.3015387   0.2344157\n",
      "   0.74204416 -0.12289023 -0.84520564 -0.88762896 -0.87785842  0.86540763\n",
      "  -0.52817175 -0.63699565  0.05080775  1.14472371 -1.07296862 -0.7612069\n",
      "   0.90159072 -2.06014071  0.53035547 -0.67124613  1.13376944 -0.93576943\n",
      "  -1.11731035 -0.3224172   1.65980218  0.90085595  0.58281521  1.62434536\n",
      "  -1.09989127 -0.38405435 -1.10061918 -0.74715829  0.61720311 -0.0126646\n",
      "   0.3190391   1.46210794 -0.69166075  0.12015895 -0.39675353  0.04221375\n",
      "  -0.26788808 -0.6871727 ]]\n",
      "Training Y [output] values\n",
      "[[ -47.97548493   37.79243616  -59.64300643  -17.68190049  171.87364139\n",
      "    51.57552253  -17.76469014  104.55575843   76.75145363  198.63761009\n",
      "  -197.51566664   33.83053368   54.73018606   10.42576826  -70.92401704\n",
      "   -29.533659    -60.41825981   95.8299159   -10.26614364  -43.67368501\n",
      "     6.39291443   97.0571715  -119.66241507  -48.55609498   35.04815633\n",
      "  -158.59762566   48.30628165  -36.41586552   76.01064468  -92.0587372\n",
      "   -94.61096995  -26.71971433  167.40460209  111.69476341   99.07509533\n",
      "   134.26032386  -91.02052238  -27.84838076  -89.67842444  -48.72407923\n",
      "    46.51312492   23.23193336   -9.92482804  127.08912391  -56.41759312\n",
      "    40.82671997  -22.19422236  -50.58910893  -25.74695826  -74.0573585 ]]\n"
     ]
    }
   ],
   "source": [
    "print(\"Training X [input] values\")\n",
    "print(X)\n",
    "print(\"Training Y [output] values\")\n",
    "print(Y)"
   ]
  },
  {
   "cell_type": "markdown",
   "id": "5f91ba99",
   "metadata": {},
   "source": [
    "## B. Now lets draw a scatter plot"
   ]
  },
  {
   "cell_type": "code",
   "execution_count": 32,
   "id": "a7375733",
   "metadata": {},
   "outputs": [
    {
     "data": {
      "text/plain": [
       "<matplotlib.collections.PathCollection at 0x7fdfd95d1550>"
      ]
     },
     "execution_count": 32,
     "metadata": {},
     "output_type": "execute_result"
    },
    {
     "data": {
      "image/png": "[encoded data removed]",
      "text/plain": [
       "<Figure size 432x288 with 1 Axes>"
      ]
     },
     "metadata": {
      "needs_background": "light"
     },
     "output_type": "display_data"
    }
   ],
   "source": [
    "plt.scatter(X, Y) # BEAUTIFUL!!!"
   ]
  },
  {
   "cell_type": "markdown",
   "id": "9b3f725e",
   "metadata": {},
   "source": [
    "# C."
   ]
  },
  {
   "cell_type": "markdown",
   "id": "abf266d5",
   "metadata": {},
   "source": [
    "## Step 1: Analysis"
   ]
  },
  {
   "cell_type": "code",
   "execution_count": 12,
   "id": "0d83ad04",
   "metadata": {},
   "outputs": [],
   "source": [
    "X_shape = X.shape\n",
    "Y_shape = Y.shape"
   ]
  },
  {
   "cell_type": "code",
   "execution_count": 13,
   "id": "eb79d6d0",
   "metadata": {},
   "outputs": [
    {
     "data": {
      "text/plain": [
       "((1, 50), (1, 50))"
      ]
     },
     "execution_count": 13,
     "metadata": {},
     "output_type": "execute_result"
    }
   ],
   "source": [
    "X_shape, Y_shape # :D"
   ]
  },
  {
   "cell_type": "markdown",
   "id": "651888cb",
   "metadata": {},
   "source": [
    "# Step 2: Neural Network Planning"
   ]
  },
  {
   "cell_type": "markdown",
   "id": "c97f1d12",
   "metadata": {},
   "source": [
    "### The neural network type will be a linear regression one\n",
    "### y= Wx+b (where w and b are the paremeters)"
   ]
  },
  {
   "cell_type": "markdown",
   "id": "dd12b912",
   "metadata": {},
   "source": [
    "### Functions that we'll be using:\n",
    "* layer_sizes(x,y) - umm takes input and out and outputs layer size of the network lets implement\n",
    "* initialize_params(SIZE_X, SIZE_Y) - takes size of neural network and initializes random variables of W and b\n",
    "* forward_propagation(X, parameters)\n",
    "* compute_cost(Y_hat, Y)\n",
    "* backpropagation [this'll be done by sklearn not me :)]\n"
   ]
  },
  {
   "cell_type": "code",
   "execution_count": 14,
   "id": "1ad8a556",
   "metadata": {},
   "outputs": [
    {
     "name": "stdout",
     "output_type": "stream",
     "text": [
      "(1, 1)\n"
     ]
    }
   ],
   "source": [
    "def layer_sizes(X, Y):\n",
    "    \n",
    "    SIZE_X, SIZE_Y = X.shape[0], Y.shape[0]\n",
    "\n",
    "    return SIZE_X, SIZE_Y\n",
    "\n",
    "print(layer_sizes(X, Y))"
   ]
  },
  {
   "cell_type": "code",
   "execution_count": 15,
   "id": "ca91236f",
   "metadata": {},
   "outputs": [],
   "source": [
    "def initialize_params(SIZE_X, SIZE_Y):\n",
    "    \"\"\"\n",
    "    @size_x: Numpy shape of all the X values\n",
    "    @size_y: Numpy shape of all the Y values\n",
    "    Takes in Size of Neural net\n",
    "    \"\"\"\n",
    "  \n",
    "    W = np.random.randn(SIZE_Y, SIZE_X) * 0.01\n",
    "    b = np.zeros((SIZE_Y, 1))\n",
    "    \n",
    "    if (b.shape != ((SIZE_Y, 1))):\n",
    "        print(\"Nah bruh it doesnt\")\n",
    "    \n",
    "    params = {\"W\": W, \"b\": b}\n",
    "    \n",
    "    return params"
   ]
  },
  {
   "cell_type": "markdown",
   "id": "37548a16",
   "metadata": {},
   "source": [
    "### testing time"
   ]
  },
  {
   "cell_type": "code",
   "execution_count": 16,
   "id": "b917a93e",
   "metadata": {},
   "outputs": [],
   "source": [
    "n_x, n_y = layer_sizes(X,Y)"
   ]
  },
  {
   "cell_type": "code",
   "execution_count": 17,
   "id": "9bfa77e8",
   "metadata": {},
   "outputs": [],
   "source": [
    "parameters = initialize_params(n_x, n_y)"
   ]
  },
  {
   "cell_type": "code",
   "execution_count": 18,
   "id": "5e1b4ca2",
   "metadata": {},
   "outputs": [],
   "source": [
    "def forward_propagation(X, parameters):\n",
    "    \"\"\"\n",
    "    @x: All input training values \n",
    "    @parameters: random generated values of W and b\n",
    "    \"\"\"\n",
    "    W = parameters['W']\n",
    "    b = parameters['b']\n",
    "    \n",
    "    # now dot product\n",
    "    \n",
    "    # y_hat = Wx + b\n",
    "   \n",
    "    Z = W.dot(X) + b\n",
    "    y_hat = Z\n",
    "    \n",
    "    return y_hat "
   ]
  },
  {
   "cell_type": "code",
   "execution_count": 19,
   "id": "059472d0",
   "metadata": {},
   "outputs": [
    {
     "data": {
      "text/plain": [
       "array([[-0.00446031,  0.00341477, -0.01222935, -0.0030841 ,  0.03756576,\n",
       "        -0.00343123, -0.01094205,  0.03027172,  0.00898776,  0.0312082 ,\n",
       "        -0.04116598,  0.00419283,  0.01327241, -0.00219805, -0.01511759,\n",
       "        -0.01587638, -0.01570163,  0.01547893, -0.00944703, -0.01139349,\n",
       "         0.00090876,  0.02047485, -0.01919142, -0.01361516,  0.01612611,\n",
       "        -0.03684826,  0.00948609, -0.0120061 ,  0.02027892, -0.01673744,\n",
       "        -0.01998453, -0.00576685,  0.02968769,  0.01611297,  0.0104244 ,\n",
       "         0.0290535 , -0.01967297, -0.00686931, -0.01968599, -0.01336389,\n",
       "         0.01103947, -0.00022652,  0.00570642,  0.02615168, -0.01237124,\n",
       "         0.0021492 , -0.00709645,  0.00075505, -0.00479152, -0.01229097]])"
      ]
     },
     "execution_count": 19,
     "metadata": {},
     "output_type": "execute_result"
    }
   ],
   "source": [
    "Y_hat = forward_propagation(X, parameters)\n",
    "Y_hat"
   ]
  },
  {
   "cell_type": "markdown",
   "id": "892591d7",
   "metadata": {},
   "source": [
    "## Cost Function formula\n",
    "$$\\mathcal{L}\\left(w, b\\right)  = \\frac{1}{2m}\\sum_{i=1}^{m} \\left(\\hat{y}^{(i)} - y^{(i)}\\right)^2$$"
   ]
  },
  {
   "cell_type": "code",
   "execution_count": 30,
   "id": "0cbdc7c6",
   "metadata": {},
   "outputs": [],
   "source": [
    "def compute_cost(Y_hat, Y):\n",
    "    \"\"\"\n",
    "    Y_hat - The Y values we estimated from \n",
    "    \"\"\"\n",
    "    m = Y.size\n",
    "    scale = 1/2*m\n",
    "    difference = (Y_hat - Y)**2\n",
    "    cost = scale * np.mean(difference) \n",
    "    return cost"
   ]
  },
  {
   "cell_type": "code",
   "execution_count": 34,
   "id": "77d84a88",
   "metadata": {},
   "outputs": [
    {
     "name": "stdout",
     "output_type": "stream",
     "text": [
      "Current cost of NN:  180590.99845926484\n"
     ]
    }
   ],
   "source": [
    "print(\"Current cost of NN: \", compute_cost(Y_hat, Y))"
   ]
  },
  {
   "cell_type": "markdown",
   "id": "46424df7",
   "metadata": {},
   "source": [
    "## Backpropagation"
   ]
  },
  {
   "cell_type": "code",
   "execution_count": 75,
   "id": "f8dcc8ae",
   "metadata": {},
   "outputs": [],
   "source": [
    "parameters = w3_tools.train_nn(parameters, Y_hat, X, Y) # yayyy"
   ]
  },
  {
   "cell_type": "markdown",
   "id": "d905ad4e",
   "metadata": {},
   "source": [
    "# I am done\n",
    "# Final Neural Network Combination"
   ]
  },
  {
   "cell_type": "code",
   "execution_count": 76,
   "id": "85fd3d7b",
   "metadata": {},
   "outputs": [],
   "source": [
    "def nn_model(X, Y, num_of_iterations=10, print_cost=False):\n",
    "    \"\"\"\n",
    "    @x\n",
    "    @y\n",
    "    @num_of_iterations\n",
    "    \n",
    "    General steps\n",
    "    layer_sizes(x,y) - umm takes input and out and outputs layer size of the network lets implement\n",
    "    initialize_params(SIZE_X, SIZE_Y) - takes size of neural network and initializes random variables of W and b\n",
    "    forward_propagation(X, parameters)\n",
    "    compute_cost(Y_hat, Y)\n",
    "    \"\"\"\n",
    "    \n",
    "    # Step 1 define size\n",
    "    size_x, size_y = layer_sizes(X, Y)\n",
    "    \n",
    "    \n",
    "    # Step 2: Initialize parameters for the regression y = mx+c / y = wx +b\n",
    "    parameters = initialize_params(size_x, size_y)\n",
    "    \n",
    "    for i in range(0, num_of_iterations):\n",
    "    \n",
    "        # Step 3: Perform forward propagation aka matrix multiplacation\n",
    "        Y_hat = forward_propagation(X, parameters) # Y_hat is the estimated value by the params\n",
    "\n",
    "        # Step 4: compute cost, to find out how bad or good our Y_hat is compared to the actual Y\n",
    "        cost = compute_cost(Y_hat, Y)\n",
    "        \n",
    "        # Step 5 : BACKPROPAGATION AHAHHAAHAAAAA\n",
    "        parameters = w3_tools.train_nn(parameters, Y_hat, X, Y) # UPDATE PARAMS\n",
    "        \n",
    "        if print_cost:\n",
    "            print(f\"On iteration {i}\")\n",
    "            print(f\"The Cost was {cost}.\") \n",
    "            \n",
    "    return parameters"
   ]
  },
  {
   "cell_type": "markdown",
   "id": "094eb0c1",
   "metadata": {},
   "source": [
    "# I think my neural network is done time to test on the data"
   ]
  },
  {
   "cell_type": "code",
   "execution_count": 77,
   "id": "94191d25",
   "metadata": {},
   "outputs": [
    {
     "name": "stdout",
     "output_type": "stream",
     "text": [
      "On iteration 0\n",
      "The Cost was 180734.73902741712.\n",
      "On iteration 1\n",
      "The Cost was 17632.82374760863.\n",
      "On iteration 2\n",
      "The Cost was 14984.28423365888.\n",
      "On iteration 3\n",
      "The Cost was 14930.034512355885.\n",
      "On iteration 4\n",
      "The Cost was 14928.496057134775.\n",
      "On iteration 5\n",
      "The Cost was 14928.439553804756.\n",
      "On iteration 6\n",
      "The Cost was 14928.437198383584.\n",
      "On iteration 7\n",
      "The Cost was 14928.437095485655.\n",
      "On iteration 8\n",
      "The Cost was 14928.437090920783.\n",
      "On iteration 9\n",
      "The Cost was 14928.437090717285.\n"
     ]
    }
   ],
   "source": [
    "# lets use the fake (easy) data then\n",
    "parameters = nn_model(X, Y, num_of_iterations=10, print_cost=True)"
   ]
  },
  {
   "cell_type": "code",
   "execution_count": 78,
   "id": "8ea397f5",
   "metadata": {},
   "outputs": [],
   "source": [
    "# i want to plot y=mx+c shit docs\n",
    "W_simple, b_simple = parameters['W'], parameters['b']"
   ]
  },
  {
   "cell_type": "code",
   "execution_count": 79,
   "id": "fac5ea60",
   "metadata": {},
   "outputs": [
    {
     "data": {
      "image/png": "[encoded data removed]",
      "text/plain": [
       "<Figure size 432x288 with 1 Axes>"
      ]
     },
     "metadata": {
      "needs_background": "light"
     },
     "output_type": "display_data"
    }
   ],
   "source": [
    "X_pred = np.array([-0.95, 0.2, 1.5])\n",
    "\n",
    "fig, ax = plt.subplots()\n",
    "plt.scatter(X, Y, color = \"black\")\n",
    "\n",
    "plt.xlabel(\"$x$\")\n",
    "plt.ylabel(\"$y$\")\n",
    "    \n",
    "X_line = np.arange(np.min(X[0,:]),np.max(X[0,:])*1.1, 0.1)\n",
    "ax.plot(X_line, W_simple[0,0] * X_line + b_simple[0,0], \"r\")\n",
    "ax.plot(X_pred, W_simple[0,0] * X_pred + b_simple[0,0], \"bo\")\n",
    "plt.plot()\n",
    "plt.show()"
   ]
  },
  {
   "cell_type": "markdown",
   "id": "3e2ef31e",
   "metadata": {},
   "source": [
    "# LETS GO :D sorry"
   ]
  },
  {
   "cell_type": "code",
   "execution_count": null,
   "id": "88e940b1",
   "metadata": {},
   "outputs": [],
   "source": []
  }
 ],
 "metadata": {
  "kernelspec": {
   "display_name": "Python 3 (ipykernel)",
   "language": "python",
   "name": "python3"
  },
  "language_info": {
   "codemirror_mode": {
    "name": "ipython",
    "version": 3
   },
   "file_extension": ".py",
   "mimetype": "text/x-python",
   "name": "python",
   "nbconvert_exporter": "python",
   "pygments_lexer": "ipython3",
   "version": "3.9.7"
  }
 },
 "nbformat": 4,
 "nbformat_minor": 5
}
