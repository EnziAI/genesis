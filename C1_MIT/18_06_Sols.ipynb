{
 "cells": [
  {
   "cell_type": "markdown",
   "id": "f07043c4",
   "metadata": {},
   "source": [
    "# 18.06SC | Fall 2011 | Undergraduate\n",
    "# Linear Algebra\n",
    "## Problems and Solutions\n"
   ]
  },
  {
   "cell_type": "markdown",
   "id": "ed18cac1",
   "metadata": {},
   "source": [
    "## MIT18_06SCF11_Ses1.1"
   ]
  },
  {
   "cell_type": "markdown",
   "id": "d7a8006c",
   "metadata": {},
   "source": [
    "<b>\n",
    "    Problem 1.1: (1.3 #4. Introduction to Linear Algebra: Strang) <br>\n",
    "    Find a combination $$\\mathbf{x}_1 w_1 + \\mathbf{x}_2 w_2 $$ that gives the zero vector: \n",
    "</b>"
   ]
  },
  {
   "cell_type": "markdown",
   "id": "30e25cde",
   "metadata": {},
   "source": [
    "$$\n",
    "\\begin{pmatrix}\n",
    "     \\\\\n",
    "    b \\\\\n",
    "    c\n",
    "\\end{pmatrix}\n",
    "$$"
   ]
  },
  {
   "cell_type": "markdown",
   "id": "37bfa738",
   "metadata": {},
   "source": [
    "\n"
   ]
  },
  {
   "cell_type": "code",
   "execution_count": null,
   "id": "88e9f8b6",
   "metadata": {},
   "outputs": [],
   "source": []
  }
 ],
 "metadata": {
  "kernelspec": {
   "display_name": "Python 3 (ipykernel)",
   "language": "python",
   "name": "python3"
  },
  "language_info": {
   "codemirror_mode": {
    "name": "ipython",
    "version": 3
   },
   "file_extension": ".py",
   "mimetype": "text/x-python",
   "name": "python",
   "nbconvert_exporter": "python",
   "pygments_lexer": "ipython3",
   "version": "3.9.7"
  }
 },
 "nbformat": 4,
 "nbformat_minor": 5
}
