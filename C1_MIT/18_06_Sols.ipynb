{
 "cells": [
  {
   "cell_type": "markdown",
   "id": "6a515c36",
   "metadata": {},
   "source": [
    "# 18.06SC | Fall 2011 | Undergraduate\n",
    "# Linear Algebra\n",
    "## Problems and Solutions\n"
   ]
  },
  {
   "cell_type": "markdown",
   "id": "db2d61c2",
   "metadata": {},
   "source": [
    "## MIT18_06SCF11_Ses1.1"
   ]
  },
  {
   "cell_type": "markdown",
   "id": "990dffd2",
   "metadata": {},
   "source": [
    "<b>Problem 1.1: (1.3 #4. Introduction to Linear Algebra: Strang) Find a combination x1w1 + x2w2 + x3w3 that gives the zero vector: <b>"
   ]
  },
  {
   "cell_type": "code",
   "execution_count": 4,
   "id": "0a3a807a",
   "metadata": {},
   "outputs": [
    {
     "ename": "SyntaxError",
     "evalue": "invalid syntax (3112445111.py, line 1)",
     "output_type": "error",
     "traceback": [
      "\u001b[0;36m  File \u001b[0;32m\"/var/folders/7q/39b5qcd17j3cp0jx_gs33lc00000gn/T/ipykernel_34495/3112445111.py\"\u001b[0;36m, line \u001b[0;32m1\u001b[0m\n\u001b[0;31m    $$\u001b[0m\n\u001b[0m    ^\u001b[0m\n\u001b[0;31mSyntaxError\u001b[0m\u001b[0;31m:\u001b[0m invalid syntax\n"
     ]
    }
   ],
   "source": [
    "$$\n",
    "\\begin{pmatrix}\n",
    "    a \\\\\n",
    "    b \\\\\n",
    "    c\n",
    "\\end{pmatrix}\n",
    "$$"
   ]
  },
  {
   "cell_type": "code",
   "execution_count": null,
   "id": "79fa5ecc",
   "metadata": {},
   "outputs": [],
   "source": []
  }
 ],
 "metadata": {
  "kernelspec": {
   "display_name": "Python 3 (ipykernel)",
   "language": "python",
   "name": "python3"
  },
  "language_info": {
   "codemirror_mode": {
    "name": "ipython",
    "version": 3
   },
   "file_extension": ".py",
   "mimetype": "text/x-python",
   "name": "python",
   "nbconvert_exporter": "python",
   "pygments_lexer": "ipython3",
   "version": "3.9.7"
  }
 },
 "nbformat": 4,
 "nbformat_minor": 5
}
