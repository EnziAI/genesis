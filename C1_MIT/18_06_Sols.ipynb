{
 "cells": [
  {
   "cell_type": "markdown",
   "id": "51af5c13",
   "metadata": {},
   "source": [
    "# 18.06SC | Fall 2011 | Undergraduate\n",
    "# Linear Algebra\n",
    "## Problems and Solutions\n"
   ]
  },
  {
   "cell_type": "markdown",
   "id": "2a2051d8",
   "metadata": {},
   "source": [
    "## Session 1.1"
   ]
  },
  {
   "cell_type": "markdown",
   "id": "adc39b77",
   "metadata": {},
   "source": [
    "============================================================================"
   ]
  },
  {
   "cell_type": "markdown",
   "id": "f767d5b0",
   "metadata": {},
   "source": [
    "![P1E1](./P1E1.png)"
   ]
  },
  {
   "cell_type": "markdown",
   "id": "e9a1a9ef",
   "metadata": {},
   "source": []
  },
  {
   "cell_type": "markdown",
   "id": "7b8675cc",
   "metadata": {},
   "source": [
    "\n"
   ]
  },
  {
   "cell_type": "markdown",
   "id": "38239365",
   "metadata": {},
   "source": [
    "![P1E1](./P1E1_solmatrix.png)"
   ]
  },
  {
   "cell_type": "code",
   "execution_count": null,
   "id": "afb5685c",
   "metadata": {},
   "outputs": [],
   "source": []
  }
 ],
 "metadata": {
  "kernelspec": {
   "display_name": "Python 3 (ipykernel)",
   "language": "python",
   "name": "python3"
  },
  "language_info": {
   "codemirror_mode": {
    "name": "ipython",
    "version": 3
   },
   "file_extension": ".py",
   "mimetype": "text/x-python",
   "name": "python",
   "nbconvert_exporter": "python",
   "pygments_lexer": "ipython3",
   "version": "3.9.7"
  }
 },
 "nbformat": 4,
 "nbformat_minor": 5
}
