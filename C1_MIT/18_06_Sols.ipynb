{
 "cells": [
  {
   "cell_type": "markdown",
   "id": "4c96f367",
   "metadata": {},
   "source": [
    "# 18.06SC | Fall 2011 | Undergraduate\n",
    "# Linear Algebra\n",
    "## Problems and Solutions\n"
   ]
  },
  {
   "cell_type": "markdown",
   "id": "9ba51ba0",
   "metadata": {},
   "source": [
    "## MIT18_06SCF11_Ses1.1"
   ]
  },
  {
   "cell_type": "markdown",
   "id": "5ba444c6",
   "metadata": {},
   "source": [
    "<b>\n",
    "    Problem 1.1: (1.3 #4. Introduction to Linear Algebra: Strang) <br>\n",
    "    Find a combination \n",
    "    $$\n",
    "    \\mathbf{x}_1 w_1 + \\mathbf{x}_2 w_2 + \\mathbf{x}_3 w_3 \n",
    "    $$ that gives the zero vector: \n",
    "</b>"
   ]
  },
  {
   "cell_type": "markdown",
   "id": "969727b5",
   "metadata": {},
   "source": [
    "$$\n",
    "\\begin{pmatrix}\n",
    "     \\\\\n",
    "    b \\\\\n",
    "    c\n",
    "\\end{pmatrix}\n",
    "$$"
   ]
  },
  {
   "cell_type": "markdown",
   "id": "da4f0643",
   "metadata": {},
   "source": [
    "\n"
   ]
  },
  {
   "cell_type": "code",
   "execution_count": null,
   "id": "fd9400fe",
   "metadata": {},
   "outputs": [],
   "source": []
  }
 ],
 "metadata": {
  "kernelspec": {
   "display_name": "Python 3 (ipykernel)",
   "language": "python",
   "name": "python3"
  },
  "language_info": {
   "codemirror_mode": {
    "name": "ipython",
    "version": 3
   },
   "file_extension": ".py",
   "mimetype": "text/x-python",
   "name": "python",
   "nbconvert_exporter": "python",
   "pygments_lexer": "ipython3",
   "version": "3.9.7"
  }
 },
 "nbformat": 4,
 "nbformat_minor": 5
}
